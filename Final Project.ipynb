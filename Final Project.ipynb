{
 "cells": [
  {
   "cell_type": "markdown",
   "metadata": {},
   "source": [
    "### Exemplar Retrieval Model(ERM) - Sieve 2001\n",
    "* Step1: **Encode cues**: profile of the stimulus examined\n",
    "* Step2: **Exemplar retrieval**: \n",
    "    - $$ similarity(j, k) = s^{d_k}$$\n",
    "        - $k$ from 1 to $j-1$;\n",
    "        - similarity: a multiplicative combination along various dimensions; \n",
    "        - $d_k$ the number of mismatching features between $j$ and $k$;\n",
    "        - $s$ the similarity of mismatching values for each feature (measuring the degree to which respondants fail to notice mismatching values: if $s=1$, the mismatch is not noticed and the similarity is not influenced by that dimension; if $s=0$, the mismatch in this dimension overrules all other dimensions and nullifies the similarity regardless of how many other matching features there are)).\n",
    "    - The probability of a previous instance $k$ is retrived given the new stimulus $j$ is observed\n",
    "$$p(retrieve\\_exemplar\\_K\\ |\\ new\\_stimulus\\_J) = \\frac{similarity(j,k)}{\\sum_k{similarity(j,k)}}$$\n",
    "\n",
    "    - The total probability of any previous TYPICAL instances are retrived given the new stimulus $j$ is observed\n",
    "$$p(k \\in T\\ |\\ new\\_stimulus\\_J) = \\frac{\\sum_{k\\in T}{similarity(j,k)}}{\\sum_{k\\in T}{similarity(j,k)}+\\sum_{k\\notin T}{similarity(j,k)}}$$\n",
    "    \n",
    "* Step3: **Balance assessment**:\n",
    "    - $$ S_N = \\sum^N_{i=1}{X_i}$$\n",
    "        - $X_i$: each of the outcomes in the sample of retrieved cases (eg: $X_i = 1$ if the $i$th exemplar is TYPICAL, and $X_i = -1$ if otherwise);\n",
    "        - $N$: constant representing the number of past cases that were retrieved on each trial at the time of the choice response\n",
    "* Step4: **Choice**: The respondent chooses the category that is favored in Step3.\n",
    "* Step5: **Probability Judgement**:\n",
    "    - $$F_{T,N} = \\frac{\\eta + N +S_N}{\\eta+\\theta +2N}$$\n",
    "        - $\\frac{\\eta}{\\eta+\\theta}$: personal probability distribution prior to any retrieval"
   ]
  },
  {
   "cell_type": "markdown",
   "metadata": {},
   "source": [
    "### Exemplar Model (Nilsson 2008)\n",
    "* The probability that object $t$ belongs to Category $A$:\n",
    "    - $$p(A) = \\frac{\\sum_{t}{similarity(t\\ |\\ x_i)}*c(x_i)}{\\sum_t{similarity(t\\ |\\ x_i)}}$$\n",
    "        - $x_i$: exemplars from memory $i = 1, 2, ..., I$\n",
    "        - $c(x_i) = 1$ if $x_1$ belong to $A$; $c(x_i)= 0$ otherwise.\n",
    "        "
   ]
  },
  {
   "cell_type": "markdown",
   "metadata": {
    "collapsed": true
   },
   "source": [
    "#### Simulation data from Nilsson 2008"
   ]
  },
  {
   "cell_type": "code",
   "execution_count": 59,
   "metadata": {
    "collapsed": false
   },
   "outputs": [
    {
     "name": "stdout",
     "output_type": "stream",
     "text": [
      "Category structure with the 12 unique exemplars and their presentation frequency in each category\n",
      "\n",
      "['E', 'C1', 'C2', 'C3', 'C4', 'FreqA', 'FreqB']\n",
      "['E1', '0', '0', '0', '0', '0', '14']\n",
      "['E2', '0', '0', '0', '1', '0', '6']\n",
      "['E3', '0', '0', '1', '0', '0', '1']\n",
      "['E4', '0', '1', '0', '0', '0', '1']\n",
      "['E5', '1', '0', '0', '0', '5', '1']\n",
      "['E6', '0', '1', '1', '0', '1', '1']\n",
      "['E7', '1', '0', '0', '1', '1', '1']\n",
      "['E8', '0', '1', '1', '1', '6', '0']\n",
      "['E9', '1', '0', '1', '1', '1', '0']\n",
      "['E10', '1', '1', '0', '1', '1', '0']\n",
      "['E11', '1', '1', '1', '0', '1', '5']\n",
      "['E12', '1', '1', '1', '1', '14', '0']\n"
     ]
    }
   ],
   "source": [
    "file = open(\"data/Sim_Nilsson_2008.txt\")\n",
    "title = file.readline()\n",
    "col_title = file.readline().strip().split(\" \")\n",
    "exemplar_list = []\n",
    "for line in file:\n",
    "    line = line.strip()\n",
    "    if (line):\n",
    "        exemplar = line.split(\" \")\n",
    "        exemplar_list.append(exemplar)\n",
    "print(title)\n",
    "print(col_title)\n",
    "for exemplar in exemplar_list:\n",
    "    print(exemplar)"
   ]
  },
  {
   "cell_type": "markdown",
   "metadata": {},
   "source": [
    "The two most important feature combinations are E5 and E11 (further on referred to as critical exemplars). The critical exemplars share a low number of features with the members of the category they belong more often to (0.96 features on average) and a high number of features with the category they belong less often to (2.53 features on average). Remember, a representativeness effect occurs when an object is judged as belonging to a category to which it seldom belongs only because it shares a high number of features with the members of that category. Accordingly, representativeness effects are hypothesized to occur in the probability judgments of the critical exemplars."
   ]
  },
  {
   "cell_type": "code",
   "execution_count": 60,
   "metadata": {
    "collapsed": false
   },
   "outputs": [],
   "source": [
    "import random\n",
    "import numpy as np\n",
    "import matplotlib as plt"
   ]
  },
  {
   "cell_type": "code",
   "execution_count": 67,
   "metadata": {
    "collapsed": true
   },
   "outputs": [],
   "source": [
    "# Step 1: encode exemplars\n",
    "# proportion: sample out for testing\n",
    "def encodeExemplar(exemplar_list):\n",
    "    exemplar_encoded = [[],[]]\n",
    "    for exemplar in exemplar_list:\n",
    "        dim = exemplar[1:5]\n",
    "        freq = exemplar[-2:]\n",
    "        for i in range(int(freq[0])):\n",
    "            exemplar_encoded[0].append(dim)\n",
    "        for i in range(int(freq[1])):\n",
    "            exemplar_encoded[1].append(dim)\n",
    "    return exemplar_encoded"
   ]
  },
  {
   "cell_type": "code",
   "execution_count": 70,
   "metadata": {
    "collapsed": false
   },
   "outputs": [
    {
     "name": "stdout",
     "output_type": "stream",
     "text": [
      "Encoded: [[['1', '0', '0', '0'], ['1', '0', '0', '0'], ['1', '0', '0', '0'], ['1', '0', '0', '0'], ['1', '0', '0', '0'], ['0', '1', '1', '0'], ['1', '0', '0', '1'], ['0', '1', '1', '1'], ['0', '1', '1', '1'], ['0', '1', '1', '1'], ['0', '1', '1', '1'], ['0', '1', '1', '1'], ['0', '1', '1', '1'], ['1', '0', '1', '1'], ['1', '1', '0', '1'], ['1', '1', '1', '0'], ['1', '1', '1', '1'], ['1', '1', '1', '1'], ['1', '1', '1', '1'], ['1', '1', '1', '1'], ['1', '1', '1', '1'], ['1', '1', '1', '1'], ['1', '1', '1', '1'], ['1', '1', '1', '1'], ['1', '1', '1', '1'], ['1', '1', '1', '1'], ['1', '1', '1', '1'], ['1', '1', '1', '1'], ['1', '1', '1', '1'], ['1', '1', '1', '1']], [['0', '0', '0', '0'], ['0', '0', '0', '0'], ['0', '0', '0', '0'], ['0', '0', '0', '0'], ['0', '0', '0', '0'], ['0', '0', '0', '0'], ['0', '0', '0', '0'], ['0', '0', '0', '0'], ['0', '0', '0', '0'], ['0', '0', '0', '0'], ['0', '0', '0', '0'], ['0', '0', '0', '0'], ['0', '0', '0', '0'], ['0', '0', '0', '0'], ['0', '0', '0', '1'], ['0', '0', '0', '1'], ['0', '0', '0', '1'], ['0', '0', '0', '1'], ['0', '0', '0', '1'], ['0', '0', '0', '1'], ['0', '0', '1', '0'], ['0', '1', '0', '0'], ['1', '0', '0', '0'], ['0', '1', '1', '0'], ['1', '0', '0', '1'], ['1', '1', '1', '0'], ['1', '1', '1', '0'], ['1', '1', '1', '0'], ['1', '1', '1', '0'], ['1', '1', '1', '0']]]\n"
     ]
    }
   ],
   "source": [
    "exemplar_encoded = encodeExemplar(exemplar_list)\n",
    "print(\"Encoded:\", exemplar_encoded)"
   ]
  },
  {
   "cell_type": "code",
   "execution_count": 72,
   "metadata": {
    "collapsed": false
   },
   "outputs": [
    {
     "name": "stdout",
     "output_type": "stream",
     "text": [
      "Testing: [['0', '1', '1', '0'], ['1', '1', '0', '1']]\n"
     ]
    }
   ],
   "source": [
    "proportion = 0.2\n",
    "exemplars_test = random.sample(exemplar_encoded, int(np.round(len(exemplar_list)*proportion)))\n",
    "print(\"Testing:\", exemplar_testing)"
   ]
  },
  {
   "cell_type": "code",
   "execution_count": 74,
   "metadata": {
    "collapsed": true
   },
   "outputs": [],
   "source": [
    "# step 2: exemplar retrieval\n",
    "def similarity(j,k):\n",
    "    simil = 1\n",
    "    for i in range(len(j)):\n",
    "        # let s for every dimension be 0.5 so every dim is equal for now\n",
    "        # for now, each dimension only has one feature which is binary\n",
    "        s = 0.5\n",
    "        if j[i] == k[i]:\n",
    "            s = s**0\n",
    "        simil = simil * s\n",
    "    return simil"
   ]
  },
  {
   "cell_type": "code",
   "execution_count": 96,
   "metadata": {
    "collapsed": true
   },
   "outputs": [],
   "source": [
    "def prob_retrieve_k(exemplar_encoded, j, k):\n",
    "    # probability of retrieve a single instance\n",
    "    count = exemplar_encoded[0].count(k)+exemplar_encoded[1].count(k)\n",
    "    total = 0\n",
    "    sim_jk = similarity(j,k)\n",
    "    for category in exemplar_encoded:\n",
    "        for i in category:\n",
    "            total += similarity(j,i)\n",
    "    prob = (count*sim_jk)/total\n",
    "    \n",
    "    return prob"
   ]
  },
  {
   "cell_type": "code",
   "execution_count": 97,
   "metadata": {
    "collapsed": false
   },
   "outputs": [
    {
     "name": "stdout",
     "output_type": "stream",
     "text": [
      "0.5\n",
      "0.25\n"
     ]
    }
   ],
   "source": [
    "print(similarity(['0','0','0','0'],['0','0','0','1']))\n",
    "print(similarity(['0','0','0','0'],['0','0','1','1']))"
   ]
  },
  {
   "cell_type": "code",
   "execution_count": 98,
   "metadata": {
    "collapsed": false
   },
   "outputs": [
    {
     "name": "stdout",
     "output_type": "stream",
     "text": [
      "0.5685279187817259\n",
      "1.0000000000000002\n"
     ]
    }
   ],
   "source": [
    "print(prob_retrieve_k(exemplar_encoded, ['0','0','0','0'], ['0','0','0','0']))\n",
    "total = 0\n",
    "for exemplar in exemplar_list:\n",
    "    k = exemplar[1:5]\n",
    "    total += prob_retrieve_k(exemplar_encoded, ['0','1','1','1'], k)\n",
    "print(total)"
   ]
  }
 ],
 "metadata": {
  "kernelspec": {
   "display_name": "Python 3",
   "language": "python",
   "name": "python3"
  },
  "language_info": {
   "codemirror_mode": {
    "name": "ipython",
    "version": 3
   },
   "file_extension": ".py",
   "mimetype": "text/x-python",
   "name": "python",
   "nbconvert_exporter": "python",
   "pygments_lexer": "ipython3",
   "version": "3.4.1"
  }
 },
 "nbformat": 4,
 "nbformat_minor": 0
}
