{
 "cells": [
  {
   "cell_type": "markdown",
   "metadata": {},
   "source": [
    "### Exemplar Retrieval Model(ERM) - Sieve 2001 (8 May, 2016 by Huiji)\n",
    "* Step1: **Encode cues**: profile of the stimulus examined\n",
    "* Step2: **Exemplar retrieval**: \n",
    "    - $$ similarity(j, k) = \\prod s^{d_k}$$\n",
    "        - $k$ from 1 to $j-1$;\n",
    "        - similarity: a multiplicative combination along various dimensions; \n",
    "        - $d_k$ the number of mismatching features between $j$ and $k$;\n",
    "        - $s$ the similarity of mismatching values for each feature (measuring the degree to which respondants fail to notice mismatching values: if $s=1$, the mismatch is not noticed and the similarity is not influenced by that dimension; if $s=0$, the mismatch in this dimension overrules all other dimensions and nullifies the similarity regardless of how many other matching features there are)).\n",
    "    - The probability of a previous instance $k$ is retrived given the new stimulus $j$ is observed\n",
    "$$p(retrieve\\_exemplar\\_K\\ |\\ new\\_stimulus\\_J) = \\frac{similarity(j,k)}{\\sum_k{similarity(j,k)}}$$\n",
    "\n",
    "    - The total probability of any previous TYPICAL instances are retrived given the new stimulus $j$ is observed\n",
    "$$p(k \\in T\\ |\\ new\\_stimulus\\_J) = \\frac{\\sum_{k\\in T}{similarity(j,k)}}{\\sum_{k\\in T}{similarity(j,k)}+\\sum_{k\\notin T}{similarity(j,k)}}$$\n",
    "    \n",
    "* Step3: **Balance assessment**:\n",
    "    - $$ S_N = \\sum^N_{i=1}{X_i}$$\n",
    "        - $X_i$: each of the outcomes in the sample of retrieved cases (eg: $X_i = 1$ if the $i$th exemplar is TYPICAL, and $X_i = -1$ if otherwise);\n",
    "        - $N$: constant representing the number of past cases that were retrieved on each trial at the time of the choice response\n",
    "* Step4: **Choice**: The respondent chooses the category that is favored in Step3.\n",
    "* Step5: **Probability Judgement**:\n",
    "    - $$F_{T,N} = \\frac{\\eta + N +S_N}{\\eta+\\theta +2N}$$\n",
    "        - $\\frac{\\eta}{\\eta+\\theta}$: personal probability distribution prior to any retrieval"
   ]
  },
  {
   "cell_type": "markdown",
   "metadata": {},
   "source": [
    "### Exemplar Model (Nilsson 2008) (8 May, 2016 by Huiji)\n",
    "\n",
    "* The probability that object $t$ belongs to Category $A$:\n",
    "    - $$p(A) = \\frac{\\sum_{t}{similarity(t\\ |\\ x_i)}*c(x_i)}{\\sum_t{similarity(t\\ |\\ x_i)}}$$\n",
    "        - $x_i$: exemplars from memory $i = 1, 2, ..., I$\n",
    "        - $c(x_i) = 1$ if $x_1$ belong to $A$; $c(x_i)= 0$ otherwise.\n",
    "        "
   ]
  },
  {
   "cell_type": "markdown",
   "metadata": {
    "collapsed": true
   },
   "source": [
    "### Simulation data from Nilsson 2008 (9 May, by Huiji)"
   ]
  },
  {
   "cell_type": "code",
   "execution_count": 1,
   "metadata": {
    "collapsed": false
   },
   "outputs": [
    {
     "name": "stdout",
     "output_type": "stream",
     "text": [
      "Category structure with the 12 unique exemplars and their presentation frequency in each category\n",
      "\n",
      "['E', 'C1', 'C2', 'C3', 'C4', 'FreqA', 'FreqB']\n",
      "['E1', '0', '0', '0', '0', '0', '14']\n",
      "['E2', '0', '0', '0', '1', '0', '6']\n",
      "['E3', '0', '0', '1', '0', '0', '1']\n",
      "['E4', '0', '1', '0', '0', '0', '1']\n",
      "['E5', '1', '0', '0', '0', '5', '1']\n",
      "['E6', '0', '1', '1', '0', '1', '1']\n",
      "['E7', '1', '0', '0', '1', '1', '1']\n",
      "['E8', '0', '1', '1', '1', '6', '0']\n",
      "['E9', '1', '0', '1', '1', '1', '0']\n",
      "['E10', '1', '1', '0', '1', '1', '0']\n",
      "['E11', '1', '1', '1', '0', '1', '5']\n",
      "['E12', '1', '1', '1', '1', '14', '0']\n"
     ]
    }
   ],
   "source": [
    "file = open(\"data/Sim_Nilsson_2008.txt\")\n",
    "title = file.readline()\n",
    "col_title = file.readline().strip().split(\" \")\n",
    "exemplar_list = []\n",
    "for line in file:\n",
    "    line = line.strip()\n",
    "    if (line):\n",
    "        exemplar = line.split(\" \")\n",
    "        exemplar_list.append(exemplar)\n",
    "print(title)\n",
    "print(col_title)\n",
    "for exemplar in exemplar_list:\n",
    "    print(exemplar)"
   ]
  },
  {
   "cell_type": "markdown",
   "metadata": {},
   "source": [
    "**Notes:** The two most important feature combinations are E5 and E11 (further on referred to as critical exemplars). The critical exemplars share a low number of features with the members of the category they belong more often to (0.96 features on average) and a high number of features with the category they belong less often to (2.53 features on average). Remember, a representativeness effect occurs when an object is judged as belonging to a category to which it seldom belongs only because it shares a high number of features with the members of that category. Accordingly, representativeness effects are hypothesized to occur in the probability judgments of the critical exemplars."
   ]
  },
  {
   "cell_type": "markdown",
   "metadata": {},
   "source": [
    "## ERM"
   ]
  },
  {
   "cell_type": "code",
   "execution_count": 2,
   "metadata": {
    "collapsed": false
   },
   "outputs": [],
   "source": [
    "%matplotlib inline\n",
    "import random\n",
    "import numpy as np\n",
    "import matplotlib.pyplot as plt\n",
    "from datetime import datetime\n",
    "import copy"
   ]
  },
  {
   "cell_type": "markdown",
   "metadata": {},
   "source": [
    "### Read features and population distributions"
   ]
  },
  {
   "cell_type": "code",
   "execution_count": 3,
   "metadata": {
    "collapsed": false
   },
   "outputs": [],
   "source": [
    "# Step -1: Read files - originally written for exemplars in Nisson (2005) by Huiji, 9 May\n",
    "#                     - later updated together for the Linda data, 12 May\n",
    "\n",
    "def read_features(filename):\n",
    "    file = open(filename)\n",
    "    features = []\n",
    "    for line in file:\n",
    "        features.append(line.strip())\n",
    "    return features\n",
    "\n",
    "def read_distribution(filename):\n",
    "    file = open(filename)\n",
    "    categories = file.readline().strip().split(\",\")\n",
    "    distribution = []\n",
    "    for line in file:\n",
    "        prob = line.strip().split(\",\")\n",
    "        for i in range(len(prob)):\n",
    "            prob[i] = float(prob[i])\n",
    "        prob = np.array(prob)\n",
    "        distribution.append(prob)\n",
    "    distribution = np.array(distribution)    \n",
    "    return categories, distribution"
   ]
  },
  {
   "cell_type": "code",
   "execution_count": 4,
   "metadata": {
    "collapsed": false
   },
   "outputs": [
    {
     "name": "stdout",
     "output_type": "stream",
     "text": [
      "['Around 30 years old', 'Single', 'Outspoken', 'Intelligent', 'Humanities major', 'Concerned with discrimination and social justice', 'Participated in demonstrations', 'Female']\n",
      "['B', 'F', 'NotB_NotF', 'BF']\n",
      "[[ 0.7  0.4  0.3  0.7]\n",
      " [ 0.4  0.8  0.5  0.8]\n",
      " [ 0.3  0.8  0.4  0.8]\n",
      " [ 0.5  0.7  0.5  0.7]\n",
      " [ 0.2  0.8  0.5  0.8]\n",
      " [ 0.4  0.9  0.4  0.9]\n",
      " [ 0.2  0.8  0.2  0.8]\n",
      " [ 0.8  0.9  0.5  0.9]]\n"
     ]
    }
   ],
   "source": [
    "features = read_features(\"data/linda_adjectives.txt\")\n",
    "categories, distribution = read_distribution(\"data/linda_distribution.txt\")\n",
    "print(features)\n",
    "print(categories)\n",
    "print(distribution)"
   ]
  },
  {
   "cell_type": "markdown",
   "metadata": {},
   "source": [
    "### Generate Simulated Exemplars"
   ]
  },
  {
   "cell_type": "code",
   "execution_count": 5,
   "metadata": {
    "collapsed": true
   },
   "outputs": [],
   "source": [
    "# Step 1: Generate exemplars - written together, 12 May\n",
    "\n",
    "def generate_exemplars(features, distribution, category_index, numExemplars):\n",
    "    distr_category = distribution[:,category_index]\n",
    "    exemplars = []\n",
    "    for i in range(numExemplars):\n",
    "        exemplar = np.zeros(len(features))        \n",
    "        for j in range(len(distr_category)):\n",
    "            random.seed(datetime.now())\n",
    "            n = random.random()\n",
    "            if (n >= (1-distr_category[j])):\n",
    "                exemplar[j] = 1\n",
    "        exemplars.append(exemplar)\n",
    "    exemplars = np.array(exemplars)\n",
    "    return exemplars"
   ]
  },
  {
   "cell_type": "code",
   "execution_count": 6,
   "metadata": {
    "collapsed": false
   },
   "outputs": [
    {
     "name": "stdout",
     "output_type": "stream",
     "text": [
      "B: [[ 1.  0.  0.  0.  1.  0.  1.  1.]\n",
      " [ 0.  0.  0.  0.  0.  0.  1.  1.]\n",
      " [ 1.  0.  0.  1.  0.  0.  0.  1.]]\n",
      "F: [[ 1.  1.  1.  0.  1.  1.  0.  1.]\n",
      " [ 0.  1.  1.  0.  1.  1.  1.  1.]\n",
      " [ 1.  1.  1.  1.  1.  0.  1.  1.]]\n",
      "NBNF: [[ 1.  1.  0.  1.  1.  0.  0.  1.]\n",
      " [ 1.  0.  1.  0.  0.  0.  0.  1.]\n",
      " [ 0.  1.  0.  1.  1.  0.  0.  0.]\n",
      " [ 0.  1.  1.  0.  0.  0.  1.  1.]\n",
      " [ 0.  0.  1.  0.  1.  1.  0.  1.]]\n",
      "FB: [[ 0.  1.  1.  1.  1.  0.  1.  1.]]\n"
     ]
    }
   ],
   "source": [
    "bank_teller_exemplars = generate_exemplars(features, distribution, 0, 10)\n",
    "feminist_exemplars = generate_exemplars(features, distribution, 1, 10)\n",
    "not_bank_not_feminist_exemplars = generate_exemplars(features, distribution, 2, 30)\n",
    "feminist_banker_exemplars = generate_exemplars(features, distribution, 3, 3)\n",
    "print(\"B:\",bank_teller_exemplars[:3])\n",
    "print(\"F:\",feminist_exemplars[:3])\n",
    "print(\"NBNF:\",not_bank_not_feminist_exemplars[:5])\n",
    "print(\"FB:\",feminist_banker_exemplars[:1])"
   ]
  },
  {
   "cell_type": "code",
   "execution_count": 7,
   "metadata": {
    "collapsed": false
   },
   "outputs": [
    {
     "name": "stdout",
     "output_type": "stream",
     "text": [
      "[[ 1.  0.  0.  0.  1.  0.  1.  1.]\n",
      " [ 0.  0.  0.  0.  0.  0.  1.  1.]\n",
      " [ 1.  0.  0.  1.  0.  0.  0.  1.]\n",
      " [ 1.  1.  0.  0.  0.  1.  0.  1.]\n",
      " [ 0.  1.  0.  0.  1.  0.  1.  1.]\n",
      " [ 0.  0.  0.  1.  0.  0.  1.  0.]\n",
      " [ 1.  1.  0.  0.  0.  0.  1.  0.]\n",
      " [ 0.  0.  0.  0.  0.  0.  1.  0.]\n",
      " [ 1.  1.  0.  1.  0.  0.  0.  1.]\n",
      " [ 0.  0.  0.  1.  0.  1.  0.  1.]]\n"
     ]
    }
   ],
   "source": [
    "exemplars_direct_test = np.concatenate((bank_teller_exemplars, feminist_exemplars, feminist_banker_exemplars))\n",
    "print(exemplars_direct_test[:10])"
   ]
  },
  {
   "cell_type": "markdown",
   "metadata": {},
   "source": [
    "### Similarity Function"
   ]
  },
  {
   "cell_type": "code",
   "execution_count": 8,
   "metadata": {
    "collapsed": true
   },
   "outputs": [],
   "source": [
    "# step 2: exemplar retrieval - by Huiji, 9 May\n",
    "def similarity(j,k,feat_weights):\n",
    "    simil = 1\n",
    "    for i in range(len(j)):\n",
    "        # let s for every dimension be 0.5 so every dim is equal for now\n",
    "        # for now, each dimension only has one feature which is binary\n",
    "        s = feat_weights[i]\n",
    "        if j[i] == k[i]:\n",
    "            s = s**0\n",
    "        simil = simil * s\n",
    "    return simil"
   ]
  },
  {
   "cell_type": "markdown",
   "metadata": {},
   "source": [
    "$$ similarity(j, k) = \\prod s^{d_k}$$"
   ]
  },
  {
   "cell_type": "markdown",
   "metadata": {},
   "source": [
    "### Feature Weights"
   ]
  },
  {
   "cell_type": "code",
   "execution_count": 9,
   "metadata": {
    "collapsed": false
   },
   "outputs": [
    {
     "name": "stdout",
     "output_type": "stream",
     "text": [
      "0.5\n",
      "0.25\n"
     ]
    }
   ],
   "source": [
    "feat_weights = [0.5,0.5,0.5,0.5]\n",
    "print(similarity(['0','0','0','0'],['0','0','0','1'],feat_weights))\n",
    "print(similarity(['0','0','0','0'],['0','0','1','1'],feat_weights))"
   ]
  },
  {
   "cell_type": "markdown",
   "metadata": {},
   "source": [
    "### Exemplar Retrieval"
   ]
  },
  {
   "cell_type": "code",
   "execution_count": 10,
   "metadata": {
    "collapsed": true
   },
   "outputs": [],
   "source": [
    "def prob_retrieve_k(exemplar_list, j, k, feat_weights):\n",
    "    # probability of retrieve a single instance - originally writtern by Huiji, 9 May\n",
    "    # - updated together later for Linda data, 12 May\n",
    "    \n",
    "    inMem = 0\n",
    "    for exemplar in exemplar_list:\n",
    "        if np.array_equal(k, exemplar):\n",
    "            inMem = 1\n",
    "            break\n",
    "    if inMem == 0:\n",
    "        return 0\n",
    "    total = 0\n",
    "    sim_jk = similarity(j,k,feat_weights)\n",
    "    for i in exemplar_list:\n",
    "        sim_ji = similarity(j,i,feat_weights)\n",
    "        total += sim_ji\n",
    "    prob = sim_jk/total\n",
    "    \n",
    "    return prob"
   ]
  },
  {
   "cell_type": "markdown",
   "metadata": {},
   "source": [
    "$$p(retrieve\\_exemplar\\_K\\ |\\ new\\_stimulus\\_J) = \\frac{similarity(j,k)}{\\sum_k{similarity(j,k)}}$$"
   ]
  },
  {
   "cell_type": "code",
   "execution_count": 11,
   "metadata": {
    "collapsed": false
   },
   "outputs": [
    {
     "name": "stdout",
     "output_type": "stream",
     "text": [
      "0.47761194029850745\n",
      "0\n",
      "0.32\n",
      "1.0000000000000002\n"
     ]
    }
   ],
   "source": [
    "# treat all features as equally important\n",
    "feat_weights = [0.5,0.5,0.5,0.5,0.5,0.5,0.5,0.5]\n",
    "\n",
    "# test with a known banker\n",
    "banker = exemplars_direct_test[0]\n",
    "print(prob_retrieve_k(bank_teller_exemplars, banker, banker, feat_weights))\n",
    "print(prob_retrieve_k(feminist_exemplars, banker, banker, feat_weights))\n",
    "print(prob_retrieve_k(exemplars_direct_test, banker, banker, feat_weights))\n",
    "\n",
    "\n",
    "total = 0\n",
    "for exemplar in exemplars_direct_test:\n",
    "    total += prob_retrieve_k(exemplars_direct_test, banker, exemplar, feat_weights)\n",
    "print(total)"
   ]
  },
  {
   "cell_type": "code",
   "execution_count": 12,
   "metadata": {
    "collapsed": true
   },
   "outputs": [],
   "source": [
    "# Find the probability of a retrieved exemplar is from a certain category - originally writtern by Huiji, 9 May\n",
    "# - updated together later for Linda data, 12 May\n",
    "\n",
    "def prob_retrieve_category(category, all_exemplars, j, feat_weights):\n",
    "    total_sim = 0\n",
    "    target_cate_sim = 0\n",
    "    for k in category: \n",
    "        target_cate_sim += similarity(j,k,feat_weights)\n",
    "    for exemplar in all_exemplars:\n",
    "        total_sim += similarity(j,exemplar,feat_weights)\n",
    "    return target_cate_sim/total_sim\n"
   ]
  },
  {
   "cell_type": "code",
   "execution_count": 13,
   "metadata": {
    "collapsed": false,
    "scrolled": true
   },
   "outputs": [
    {
     "name": "stdout",
     "output_type": "stream",
     "text": [
      "[0.67, 0.28, 0.05]\n",
      "1.0\n"
     ]
    }
   ],
   "source": [
    "# test with a known banker (direct test - comparing all the statements to each other) - written together, 12 May\n",
    "prob_cate_list = []\n",
    "prob_cate_list.append(prob_retrieve_category(bank_teller_exemplars, exemplars_direct_test, banker, feat_weights))\n",
    "prob_cate_list.append(prob_retrieve_category(feminist_exemplars, exemplars_direct_test, banker, feat_weights))\n",
    "prob_cate_list.append(prob_retrieve_category(feminist_banker_exemplars, exemplars_direct_test, banker, feat_weights))\n",
    "print(prob_cate_list)\n",
    "total = 0\n",
    "for i in prob_cate_list:\n",
    "    total += i\n",
    "print(total)"
   ]
  },
  {
   "cell_type": "markdown",
   "metadata": {},
   "source": [
    "### Linda Direct Test: 1 iteration (BF size: 30% of B and of F)"
   ]
  },
  {
   "cell_type": "code",
   "execution_count": 14,
   "metadata": {
    "collapsed": false
   },
   "outputs": [
    {
     "name": "stdout",
     "output_type": "stream",
     "text": [
      "Bank Teller:  0.06371911573472042\n",
      "Feminist:  0.6449934980494149\n",
      "Feminist Bank Teller:  0.29128738621586475\n"
     ]
    }
   ],
   "source": [
    "# LINDA!!!! (direct test - comparing all the statements to each other) - written together, 12 May\n",
    "linda = np.array([1,1,1,1,1,1,1,1])\n",
    "linda_cate_list = []\n",
    "linda_cate_list.append(prob_retrieve_category(bank_teller_exemplars, exemplars_direct_test, linda, feat_weights))\n",
    "linda_cate_list.append(prob_retrieve_category(feminist_exemplars, exemplars_direct_test, linda, feat_weights))\n",
    "linda_cate_list.append(prob_retrieve_category(feminist_banker_exemplars, exemplars_direct_test, linda, feat_weights))\n",
    "print(\"Bank Teller: \", linda_cate_list[0])\n",
    "print(\"Feminist: \", linda_cate_list[1])\n",
    "print(\"Feminist Bank Teller: \", linda_cate_list[2])"
   ]
  },
  {
   "cell_type": "code",
   "execution_count": 45,
   "metadata": {
    "collapsed": false
   },
   "outputs": [
    {
     "data": {
      "image/png": "[encoded data removed]",
      "text/plain": [
       "<matplotlib.figure.Figure at 0x107a3a2b0>"
      ]
     },
     "metadata": {},
     "output_type": "display_data"
    }
   ],
   "source": [
    "# Assuming people base their probability judgements\n",
    "# (in this case, ranking statements) directly based\n",
    "# on the number of exemplars they retrieved\n",
    "\n",
    "# Bar graph to display the rankings - 26 May, by Huiji\n",
    "plt.bar(np.arange(0,3,1), linda_cate_list, 0.5)\n",
    "plt.title(\"Probability judgements for direct test\\n (Small exemplar size)\")\n",
    "plt.xlabel(\"Categories\")\n",
    "plt.ylabel(\"Probability\")\n",
    "plt.xticks(np.arange(0,3,1)+0.5/2, [\"Bank Teller\", \"Feminist\",\"Feminist Bank Teller\"])\n",
    "plt.show()"
   ]
  },
  {
   "cell_type": "markdown",
   "metadata": {},
   "source": [
    "### Linda Indirect Test: 1 iteration (BF size: 30% of B and of F, Common ppl: 3*B)"
   ]
  },
  {
   "cell_type": "code",
   "execution_count": 131,
   "metadata": {
    "collapsed": false
   },
   "outputs": [
    {
     "name": "stdout",
     "output_type": "stream",
     "text": [
      "Bank Teller:  0.12628865979381443\n",
      "Feminist:  0.5940119760479042\n",
      "Feminist Bank Teller:  0.3978685612788632\n"
     ]
    }
   ],
   "source": [
    "# LINDA!!!! (indirect test - comparing each statement with common people) - 26 May, by Huiji\n",
    "linda_cate_list_ind = []\n",
    "\n",
    "bank_indirect_test = np.concatenate((bank_teller_exemplars, not_bank_not_feminist_exemplars))\n",
    "feminist_indirect_test = np.concatenate((feminist_exemplars, not_bank_not_feminist_exemplars))\n",
    "conj_indirect_test = np.concatenate((feminist_banker_exemplars, not_bank_not_feminist_exemplars))\n",
    "\n",
    "linda_cate_list_ind.append(prob_retrieve_category(bank_teller_exemplars, bank_indirect_test, linda, feat_weights))\n",
    "linda_cate_list_ind.append(prob_retrieve_category(feminist_exemplars, feminist_indirect_test, linda, feat_weights))\n",
    "linda_cate_list_ind.append(prob_retrieve_category(feminist_banker_exemplars, conj_indirect_test, linda, feat_weights))\n",
    "print(\"Bank Teller: \", linda_cate_list_ind[0])\n",
    "print(\"Feminist: \", linda_cate_list_ind[1])\n",
    "print(\"Feminist Bank Teller: \", linda_cate_list_ind[2])"
   ]
  },
  {
   "cell_type": "code",
   "execution_count": 132,
   "metadata": {
    "collapsed": false
   },
   "outputs": [
    {
     "data": {
      "image/png": "[encoded data removed]",
      "text/plain": [
       "<matplotlib.figure.Figure at 0x10799b7b8>"
      ]
     },
     "metadata": {},
     "output_type": "display_data"
    }
   ],
   "source": [
    "# Assuming people base their probability judgements\n",
    "# (in this case, ranking statements) directly based\n",
    "# on the number of exemplars they retrieved\n",
    "\n",
    "# Bar graph to display the rankings - 26 May, by Huiji\n",
    "plt.bar(np.arange(0,3,1), linda_cate_list_ind, 0.5)\n",
    "plt.title(\"Probability judgements for indirect test\\n (Small exemplar size)\")\n",
    "plt.xlabel(\"Categories\")\n",
    "plt.ylabel(\"Probability\")\n",
    "plt.xticks(np.arange(0,3,1)+0.5/2, [\"Bank Teller\", \"Feminist\",\"Feminist Bank Teller\"])\n",
    "plt.show()"
   ]
  },
  {
   "cell_type": "markdown",
   "metadata": {},
   "source": [
    "## Linda's Direct Test: 100 iterations"
   ]
  },
  {
   "cell_type": "markdown",
   "metadata": {},
   "source": [
    "### Small memory size  (BF size: 30% of B and of F)"
   ]
  },
  {
   "cell_type": "code",
   "execution_count": 46,
   "metadata": {
    "collapsed": false
   },
   "outputs": [
    {
     "name": "stdout",
     "output_type": "stream",
     "text": [
      "[0.043013976635090927, 0.090867240028436588, 0.084900391187889029] [0.12200051084617139, 0.63618682978761232, 0.24181265936621624]\n"
     ]
    }
   ],
   "source": [
    "# Run direct tests with multiple iterations to mimick multiple participants in the human experiments\n",
    "# with equally small memory size for participants (B:10, F:10, BF: 3)\n",
    "# - 26 May, by Huiji\n",
    "iterations = 100\n",
    "linda = np.array([1,1,1,1,1,1,1,1])\n",
    "feat_weights = [0.5,0.5,0.5,0.5,0.5,0.5,0.5,0.5]\n",
    "dirTest_matrix = []\n",
    "for i in range(iterations):\n",
    "    # generate new set of exemplars for each participant\n",
    "    dirB_exemplars = generate_exemplars(features, distribution, 0, 10)\n",
    "    dirF_exemplars = generate_exemplars(features, distribution, 1, 10)\n",
    "    dirBF_exemplars = generate_exemplars(features, distribution, 3, 3)\n",
    "    # concatenate to get the set of all exemplars a participant has\n",
    "    dirAll_exemplars= np.concatenate((dirB_exemplars, dirF_exemplars, dirBF_exemplars))\n",
    " \n",
    "    dir_cate_list = []\n",
    "    dir_cate_list.append(prob_retrieve_category(dirB_exemplars, dirAll_exemplars, linda, feat_weights))\n",
    "    dir_cate_list.append(prob_retrieve_category(dirF_exemplars, dirAll_exemplars, linda, feat_weights))\n",
    "    dir_cate_list.append(prob_retrieve_category(dirBF_exemplars, dirAll_exemplars, linda, feat_weights))\n",
    "    dirTest_matrix.append(dir_cate_list)\n",
    "    \n",
    "dirTest_matrix = np.array(dirTest_matrix)\n",
    "\n",
    "# get mean and standard deviation for probability ratings\n",
    "dirStd = []\n",
    "dirMean = []\n",
    "for i in range(3):\n",
    "    a = dirTest_matrix[:,i]\n",
    "    std = np.std(a)\n",
    "    mean = np.mean(a)\n",
    "    dirStd.append(std)\n",
    "    dirMean.append(mean)\n",
    "print (dirStd, dirMean)"
   ]
  },
  {
   "cell_type": "markdown",
   "metadata": {},
   "source": [
    "### Large Memory Size  (BF size: 30% of B and of F)"
   ]
  },
  {
   "cell_type": "code",
   "execution_count": 49,
   "metadata": {
    "collapsed": false
   },
   "outputs": [
    {
     "name": "stdout",
     "output_type": "stream",
     "text": [
      "[0.013580017792809384, 0.026956854911403986, 0.025748446793564621] [0.12044232970868786, 0.64508640168440545, 0.23447126860690659]\n"
     ]
    }
   ],
   "source": [
    "# Run direct tests with multiple iterations to mimick multiple participants in the human experiments\n",
    "# with equally big memory size for participants (B:100, F:100, BF: 30)\n",
    "# - 26 May, by Huiji\n",
    "\n",
    "dirTest_matrix_b = []\n",
    "for i in range(iterations):\n",
    "    # generate new set of exemplars for each participant\n",
    "    dirB_exemplars = generate_exemplars(features, distribution, 0, 100)\n",
    "    dirF_exemplars = generate_exemplars(features, distribution, 1, 100)\n",
    "    dirBF_exemplars = generate_exemplars(features, distribution, 3, 30)\n",
    "    # concatenate to get the set of all exemplars a participant has\n",
    "    dirAll_exemplars= np.concatenate((dirB_exemplars, dirF_exemplars, dirBF_exemplars))\n",
    " \n",
    "    dir_cate_list = []\n",
    "    dir_cate_list.append(prob_retrieve_category(dirB_exemplars, dirAll_exemplars, linda, feat_weights))\n",
    "    dir_cate_list.append(prob_retrieve_category(dirF_exemplars, dirAll_exemplars, linda, feat_weights))\n",
    "    dir_cate_list.append(prob_retrieve_category(dirBF_exemplars, dirAll_exemplars, linda, feat_weights))\n",
    "    dirTest_matrix_b.append(dir_cate_list)\n",
    "    \n",
    "dirTest_matrix_b = np.array(dirTest_matrix_b)\n",
    "\n",
    "# get mean and standard deviation for probability ratings\n",
    "dirStd_b = []\n",
    "dirMean_b = []\n",
    "for i in range(3):\n",
    "    a = dirTest_matrix_b[:,i]\n",
    "    std = np.std(a)\n",
    "    mean = np.mean(a)\n",
    "    dirStd_b.append(std)\n",
    "    dirMean_b.append(mean)\n",
    "print (dirStd_b, dirMean_b)"
   ]
  },
  {
   "cell_type": "markdown",
   "metadata": {},
   "source": [
    "### Comparison"
   ]
  },
  {
   "cell_type": "code",
   "execution_count": 62,
   "metadata": {
    "collapsed": false
   },
   "outputs": [
    {
     "data": {
      "image/png": "[encoded data removed]",
      "text/plain": [
       "<matplotlib.figure.Figure at 0x10745d0b8>"
      ]
     },
     "metadata": {},
     "output_type": "display_data"
    }
   ],
   "source": [
    "# Bar graph to display the rankings (mean and std) over 100 simulated participants\n",
    "# with both small exemplar size (B:10, F:10, BF: 3) and big exemplar size (B:100 F:100 BF:30)\n",
    "# - 26 May, by Huiji\n",
    "\n",
    "fig, ax = plt.subplots()\n",
    "\n",
    "def autolabel(rects):\n",
    "    # attach some text labels\n",
    "    for rect in rects:\n",
    "        height = rect.get_height()\n",
    "        ax.text(rect.get_x() + rect.get_width()/2., 1.05*height,\n",
    "                '%f' % height,\n",
    "                ha='center', va='bottom')\n",
    "        \n",
    "p1 = ax.bar(np.arange(0,3,1), dirMean, 0.45, color = 'y', yerr = dirStd)\n",
    "p2 = ax.bar(np.arange(0,3,1)+0.45, dirMean_b, 0.45, color = 'r', yerr = dirStd_b)\n",
    "plt.title(\"Average Probability judgements for direct test over 100 iterations\")\n",
    "plt.xlabel(\"Categories\")\n",
    "plt.ylabel(\"Probability\")\n",
    "plt.xticks(np.arange(0,3,1)+0.95/2, [\"Bank Teller\", \"Feminist\",\"Feminist Bank Teller\"])\n",
    "plt.legend((p1[0],p2[0]), [\"Small Mem\", \"Big Mem\"])\n",
    "\n",
    "autolabel(p1)\n",
    "autolabel(p2)\n",
    "\n",
    "plt.show()"
   ]
  },
  {
   "cell_type": "markdown",
   "metadata": {},
   "source": [
    "*NOTE: Average probabily judgements are pretty consistant relative to the absolute exemplar set size. But with larger exemplar sets, we get smaller variance. *"
   ]
  },
  {
   "cell_type": "markdown",
   "metadata": {},
   "source": [
    "### Linda Direct Test: Manipulate category size relationship"
   ]
  },
  {
   "cell_type": "markdown",
   "metadata": {},
   "source": [
    "#### Keep B and F the same, Vary BF"
   ]
  },
  {
   "cell_type": "code",
   "execution_count": 69,
   "metadata": {
    "collapsed": false
   },
   "outputs": [],
   "source": [
    "# Run direct tests with multiple iterations to mimick multiple participants in the human experiments\n",
    "# with varying BF size for participants (B:40, F:40, BF: x, x from 2 to 30, incrementing by 2)\n",
    "# - 26 May, by Huiji\n",
    "\n",
    "# Store mean and std for 8 different conditions\n",
    "varyBF = []\n",
    "\n",
    "for x in np.arange(2,32,2):\n",
    "    varyBF_matrix = []\n",
    "    for i in range(iterations):\n",
    "        # generate new set of exemplars for each participant\n",
    "        dirB_exemplars = generate_exemplars(features, distribution, 0, 40)\n",
    "        dirF_exemplars = generate_exemplars(features, distribution, 1, 40)\n",
    "        dirBF_exemplars = generate_exemplars(features, distribution, 3, x)\n",
    "        # concatenate to get the set of all exemplars a participant has\n",
    "        dirAll_exemplars= np.concatenate((dirB_exemplars, dirF_exemplars, dirBF_exemplars))\n",
    "\n",
    "        dir_cate_list = []\n",
    "        dir_cate_list.append(prob_retrieve_category(dirB_exemplars, dirAll_exemplars, linda, feat_weights))\n",
    "        dir_cate_list.append(prob_retrieve_category(dirF_exemplars, dirAll_exemplars, linda, feat_weights))\n",
    "        dir_cate_list.append(prob_retrieve_category(dirBF_exemplars, dirAll_exemplars, linda, feat_weights))\n",
    "        varyBF_matrix.append(dir_cate_list)\n",
    "\n",
    "    varyBF_matrix = np.array(varyBF_matrix)\n",
    "    # get mean and standard deviation for probability ratings\n",
    "    varyBF_dirStd = []\n",
    "    varyBF_dirMean = []\n",
    "    for i in range(3):\n",
    "        a = varyBF_matrix[:,i]\n",
    "        std = np.std(a)\n",
    "        mean = np.mean(a)\n",
    "        varyBF_dirStd.append(std)\n",
    "        varyBF_dirMean.append(mean)\n",
    "    X = [varyBF_dirStd, varyBF_dirMean]\n",
    "    varyBF.append(X)\n",
    "\n",
    "varyBF = np.array(varyBF)"
   ]
  },
  {
   "cell_type": "code",
   "execution_count": 111,
   "metadata": {
    "collapsed": false
   },
   "outputs": [
    {
     "data": {
      "image/png": "[encoded data removed]",
      "text/plain": [
       "<matplotlib.figure.Figure at 0x1079d3dd8>"
      ]
     },
     "metadata": {},
     "output_type": "display_data"
    }
   ],
   "source": [
    "# Plot the probability ratings of each category with respect to the change in BF's proportion\n",
    "# std & mean for Banker\n",
    "varyBF_B_std = varyBF[:,0][:,0]\n",
    "varyBF_B_mean = varyBF[:,1][:,0]\n",
    "# std & mean for Feminist\n",
    "varyBF_F_std = varyBF[:,0][:,1]\n",
    "varyBF_F_mean = varyBF[:,1][:,1]\n",
    "# std & mean for Feminist Banker\n",
    "varyBF_BF_std = varyBF[:,0][:,2]\n",
    "varyBF_BF_mean = varyBF[:,1][:,2]\n",
    "\n",
    "width = 0.3\n",
    "fig = plt.figure(figsize=(12,4))\n",
    "ax = plt.subplot(111)\n",
    "ind = np.arange(len(varyBF_B_mean))\n",
    "p1 = ax.bar(ind-width, varyBF_B_mean, width, color= 'r', align = 'center', yerr = varyBF_B_std)\n",
    "p2 = ax.bar(ind, varyBF_F_mean, width, color= 'b',align = 'center', yerr = varyBF_F_std)\n",
    "p3 = ax.bar(ind+width, varyBF_BF_mean, width, color= 'g',align = 'center', yerr = varyBF_BF_std)\n",
    "plt.title(\"Average Probability judgements for direct test over 100 iterations\\n (Varying BF proportion while keeping B & F equal)\")\n",
    "plt.xlabel(\"Proportion of BF size with respect to B/F size\")\n",
    "plt.ylabel(\"Probability\")\n",
    "ax.set_xticks(ind)\n",
    "ax.set_xticklabels(np.arange(2,32,2)*100//40)\n",
    "ax.autoscale(tight=True)\n",
    "plt.legend((p1[0],p2[0],p3[0]), [\"Bank Teller\", \"Feminist\",\"Feminist Banker\"])\n",
    "plt.show()"
   ]
  },
  {
   "cell_type": "markdown",
   "metadata": {},
   "source": [
    "As long as there are more than 15% of the bankers and feminists that are feminist banker, we see the conjunction fallacy. (In this test case, that is more than 6 people out of 40 bank tellers are active in feminist movements.)"
   ]
  },
  {
   "cell_type": "markdown",
   "metadata": {},
   "source": [
    "#### Keep B and BF the same, Vary F"
   ]
  },
  {
   "cell_type": "code",
   "execution_count": 119,
   "metadata": {
    "collapsed": true
   },
   "outputs": [],
   "source": [
    "# Suppose that 30% of the bank tellers are active in feminist movements\n",
    "# like we hypothesized in the basic version\n",
    "# Run direct tests with multiple iterations to mimick multiple participants in the human experiments\n",
    "# with varying BF size for participants (B:40, F:x, BF: 12, x from 24 to 60, incrementing by 4)\n",
    "# - 26 May, by Huiji\n",
    "\n",
    "# Store mean and std for 12 different conditions\n",
    "varyF = []\n",
    "\n",
    "for x in np.arange(12,62,4):\n",
    "    varyF_matrix = []\n",
    "    for i in range(iterations):\n",
    "        # generate new set of exemplars for each participant\n",
    "        dirB_exemplars = generate_exemplars(features, distribution, 0, 40)\n",
    "        dirF_exemplars = generate_exemplars(features, distribution, 1, x)\n",
    "        dirBF_exemplars = generate_exemplars(features, distribution, 3, 12)\n",
    "        # concatenate to get the set of all exemplars a participant has\n",
    "        dirAll_exemplars= np.concatenate((dirB_exemplars, dirF_exemplars, dirBF_exemplars))\n",
    "\n",
    "        dir_cate_list = []\n",
    "        dir_cate_list.append(prob_retrieve_category(dirB_exemplars, dirAll_exemplars, linda, feat_weights))\n",
    "        dir_cate_list.append(prob_retrieve_category(dirF_exemplars, dirAll_exemplars, linda, feat_weights))\n",
    "        dir_cate_list.append(prob_retrieve_category(dirBF_exemplars, dirAll_exemplars, linda, feat_weights))\n",
    "        varyF_matrix.append(dir_cate_list)\n",
    "\n",
    "    varyF_matrix = np.array(varyF_matrix)\n",
    "    # get mean and standard deviation for probability ratings\n",
    "    varyF_dirStd = []\n",
    "    varyF_dirMean = []\n",
    "    for i in range(3):\n",
    "        a = varyF_matrix[:,i]\n",
    "        std = np.std(a)\n",
    "        mean = np.mean(a)\n",
    "        varyF_dirStd.append(std)\n",
    "        varyF_dirMean.append(mean)\n",
    "    X = [varyF_dirStd, varyF_dirMean]\n",
    "    varyF.append(X)\n",
    "\n",
    "varyF = np.array(varyF)"
   ]
  },
  {
   "cell_type": "code",
   "execution_count": 120,
   "metadata": {
    "collapsed": false
   },
   "outputs": [
    {
     "data": {
      "image/png": "[encoded data removed]",
      "text/plain": [
       "<matplotlib.figure.Figure at 0x1082b1e10>"
      ]
     },
     "metadata": {},
     "output_type": "display_data"
    }
   ],
   "source": [
    "# Plot the probability ratings of each category with respect to the change in F's proportion\n",
    "# std & mean for Banker\n",
    "varyF_B_std = varyF[:,0][:,0]\n",
    "varyF_B_mean = varyF[:,1][:,0]\n",
    "# std & mean for Feminist\n",
    "varyF_F_std = varyF[:,0][:,1]\n",
    "varyF_F_mean = varyF[:,1][:,1]\n",
    "# std & mean for Feminist Banker\n",
    "varyF_BF_std = varyF[:,0][:,2]\n",
    "varyF_BF_mean = varyF[:,1][:,2]\n",
    "\n",
    "width = 0.3\n",
    "fig = plt.figure(figsize=(12,4))\n",
    "ax = plt.subplot(111)\n",
    "ind = np.arange(len(varyF_B_mean))\n",
    "p1 = ax.bar(ind-width, varyF_B_mean, width, color= 'r', align = 'center', yerr = varyF_B_std)\n",
    "p2 = ax.bar(ind, varyF_F_mean, width, color= 'b',align = 'center', yerr = varyF_F_std)\n",
    "p3 = ax.bar(ind+width, varyF_BF_mean, width, color= 'g',align = 'center', yerr = varyF_BF_std)\n",
    "plt.title(\"Average Probability judgements for direct test over 100 iterations\\n (Varying F proportion while keeping B & BF equal)\")\n",
    "plt.xlabel(\"Proportion of F size with respect to BF size\")\n",
    "plt.ylabel(\"Probability\")\n",
    "ax.set_xticks(ind)\n",
    "xticks = []\n",
    "for i in np.arange(12,62,4):\n",
    "    xticks.append(round(i/12, 2))\n",
    "ax.set_xticklabels(xticks)\n",
    "ax.autoscale(tight=True)\n",
    "plt.legend((p1[0],p2[0],p3[0]), [\"Bank Teller\", \"Feminist\",\"Feminist Banker\"])\n",
    "plt.show()"
   ]
  },
  {
   "cell_type": "markdown",
   "metadata": {},
   "source": [
    "#### Keep F and BF the same, Vary B"
   ]
  },
  {
   "cell_type": "code",
   "execution_count": 123,
   "metadata": {
    "collapsed": true
   },
   "outputs": [],
   "source": [
    "# Suppose that 30% of the feminists are bank teller\n",
    "# like we hypothesized in the basic version\n",
    "# Run direct tests with multiple iterations to mimick multiple participants in the human experiments\n",
    "# with varying BF size for participants (B:x, F:40, BF: 12, x from 24 to 60, incrementing by 4)\n",
    "# - 26 May, by Huiji\n",
    "\n",
    "# Store mean and std for 12 different conditions\n",
    "varyB = []\n",
    "\n",
    "for x in np.arange(12,62,4):\n",
    "    varyB_matrix = []\n",
    "    for i in range(iterations):\n",
    "        # generate new set of exemplars for each participant\n",
    "        dirB_exemplars = generate_exemplars(features, distribution, 0, 40)\n",
    "        dirF_exemplars = generate_exemplars(features, distribution, 1, x)\n",
    "        dirBF_exemplars = generate_exemplars(features, distribution, 3, 12)\n",
    "        # concatenate to get the set of all exemplars a participant has\n",
    "        dirAll_exemplars= np.concatenate((dirB_exemplars, dirF_exemplars, dirBF_exemplars))\n",
    "\n",
    "        dir_cate_list = []\n",
    "        dir_cate_list.append(prob_retrieve_category(dirB_exemplars, dirAll_exemplars, linda, feat_weights))\n",
    "        dir_cate_list.append(prob_retrieve_category(dirF_exemplars, dirAll_exemplars, linda, feat_weights))\n",
    "        dir_cate_list.append(prob_retrieve_category(dirBF_exemplars, dirAll_exemplars, linda, feat_weights))\n",
    "        varyB_matrix.append(dir_cate_list)\n",
    "\n",
    "    varyB_matrix = np.array(varyB_matrix)\n",
    "    # get mean and standard deviation for probability ratings\n",
    "    varyB_dirStd = []\n",
    "    varyB_dirMean = []\n",
    "    for i in range(3):\n",
    "        a = varyB_matrix[:,i]\n",
    "        std = np.std(a)\n",
    "        mean = np.mean(a)\n",
    "        varyB_dirStd.append(std)\n",
    "        varyB_dirMean.append(mean)\n",
    "    X = [varyB_dirStd, varyB_dirMean]\n",
    "    varyB.append(X)\n",
    "\n",
    "varyB = np.array(varyB)"
   ]
  },
  {
   "cell_type": "code",
   "execution_count": 127,
   "metadata": {
    "collapsed": false
   },
   "outputs": [
    {
     "data": {
      "image/png": "[encoded data removed]",
      "text/plain": [
       "<matplotlib.figure.Figure at 0x1077d0be0>"
      ]
     },
     "metadata": {},
     "output_type": "display_data"
    }
   ],
   "source": [
    "# Plot the probability ratings of each category with respect to the change in B's proportion\n",
    "# std & mean for Banker\n",
    "varyB_B_std = varyB[:,0][:,0]\n",
    "varyB_B_mean = varyB[:,1][:,0]\n",
    "# std & mean for Feminist\n",
    "varyB_F_std = varyB[:,0][:,1]\n",
    "varyB_F_mean = varyB[:,1][:,1]\n",
    "# std & mean for Feminist Banker\n",
    "varyB_BF_std = varyB[:,0][:,2]\n",
    "varyB_BF_mean = varyB[:,1][:,2]\n",
    "\n",
    "width = 0.3\n",
    "fig = plt.figure(figsize=(12,4))\n",
    "ax = plt.subplot(111)\n",
    "ind = np.arange(len(varyB_B_mean))\n",
    "p1 = ax.bar(ind-width, varyB_B_mean, width, color= 'r', align = 'center', yerr = varyB_B_std)\n",
    "p2 = ax.bar(ind, varyB_F_mean, width, color= 'b',align = 'center', yerr = varyB_F_std)\n",
    "p3 = ax.bar(ind+width, varyB_BF_mean, width, color= 'g',align = 'center', yerr = varyB_BF_std)\n",
    "plt.title(\"Average Probability judgements for direct test over 100 iterations\\n (Varying B proportion while keeping F & BF equal)\")\n",
    "plt.xlabel(\"Proportion of B size with respect to BF size\")\n",
    "plt.ylabel(\"Probability\")\n",
    "ax.set_xticks(ind)\n",
    "xticks = []\n",
    "for i in np.arange(12,62,4):\n",
    "    xticks.append(round(i/12, 2))\n",
    "ax.set_xticklabels(xticks)\n",
    "ax.autoscale(tight=True)\n",
    "plt.legend((p1[0],p2[0],p3[0]), [\"Bank Teller\", \"Feminist\",\"Feminist Banker\"]\n",
    "           ,bbox_to_anchor=(1.05, 1), loc=2, borderaxespad=0.)\n",
    "plt.show()"
   ]
  },
  {
   "cell_type": "markdown",
   "metadata": {},
   "source": [
    "## Linda Indirect Test: 100 iterations"
   ]
  },
  {
   "cell_type": "code",
   "execution_count": 140,
   "metadata": {
    "collapsed": false
   },
   "outputs": [
    {
     "name": "stdout",
     "output_type": "stream",
     "text": [
      "[0.026665610378189347, 0.1270690923442323, 0.11883587682522666] [0.15642432754657343, 0.72871174971461128, 0.57649409534581653]\n"
     ]
    }
   ],
   "source": [
    "# Run indirect tests with multiple iterations to mimick multiple participants in the human experiments\n",
    "# with small memory size for participants (B:10, F:10, BF: 3)\n",
    "# - 26 May, by Huiji\n",
    "iterations = 100\n",
    "linda = np.array([1,1,1,1,1,1,1,1])\n",
    "feat_weights = [0.5,0.5,0.5,0.5,0.5,0.5,0.5,0.5]\n",
    "indirTest_matrix = []\n",
    "for i in range(iterations):\n",
    "    # generate new set of exemplars for each participant\n",
    "    indirB_exemplars = generate_exemplars(features, distribution, 0, 10)\n",
    "    indirF_exemplars = generate_exemplars(features, distribution, 1, 10)\n",
    "    indirBF_exemplars = generate_exemplars(features, distribution, 3, 3)\n",
    "    indir_notBF_exemplars = generate_exemplars(features, distribution, 2, 30)\n",
    "    # concatenate to get the set of all exemplars a participant has\n",
    "     \n",
    "    indir_cate_list = []\n",
    "\n",
    "    indir_B_exemplars = np.concatenate((indirB_exemplars, indir_notBF_exemplars))\n",
    "    indir_F_exemplars = np.concatenate((indirF_exemplars, indir_notBF_exemplars))\n",
    "    indir_BF_exemplars = np.concatenate((indirBF_exemplars, indir_notBF_exemplars))\n",
    "\n",
    "    indir_cate_list.append(prob_retrieve_category(bank_teller_exemplars, indir_B_exemplars, linda, feat_weights))\n",
    "    indir_cate_list.append(prob_retrieve_category(feminist_exemplars, indir_F_exemplars, linda, feat_weights))\n",
    "    indir_cate_list.append(prob_retrieve_category(feminist_banker_exemplars, indir_BF_exemplars, linda, feat_weights))\n",
    "\n",
    "    indirTest_matrix.append(indir_cate_list)\n",
    "    \n",
    "indirTest_matrix = np.array(indirTest_matrix)\n",
    "\n",
    "# get mean and standard deviation for probability ratings\n",
    "indirStd = []\n",
    "indirMean = []\n",
    "for i in range(3):\n",
    "    a = indirTest_matrix[:,i]\n",
    "    std = np.std(a)\n",
    "    mean = np.mean(a)\n",
    "    indirStd.append(std)\n",
    "    indirMean.append(mean)\n",
    "print (indirStd, indirMean)"
   ]
  },
  {
   "cell_type": "code",
   "execution_count": 142,
   "metadata": {
    "collapsed": false
   },
   "outputs": [
    {
     "name": "stdout",
     "output_type": "stream",
     "text": [
      "[0.00090899003148918478, 0.0036426455788863433, 0.0038644750405484431] [0.015606790919279089, 0.0723384910597967, 0.056827954305409822]\n"
     ]
    }
   ],
   "source": [
    "# Run indirect tests with multiple iterations to mimick multiple participants in the human experiments\n",
    "# with small memory size for participants (B:100, F:100, BF: 30, notBF: 300)\n",
    "# - 26 May, by Huiji\n",
    "indirTest_matrix_b = []\n",
    "for i in range(iterations):\n",
    "    # generate new set of exemplars for each participant\n",
    "    indirB_exemplars = generate_exemplars(features, distribution, 0, 100)\n",
    "    indirF_exemplars = generate_exemplars(features, distribution, 1, 100)\n",
    "    indirBF_exemplars = generate_exemplars(features, distribution, 3, 30)\n",
    "    indir_notBF_exemplars = generate_exemplars(features, distribution, 2, 300)\n",
    "    # concatenate to get the set of all exemplars a participant has\n",
    "     \n",
    "    indir_cate_list = []\n",
    "\n",
    "    indir_B_exemplars = np.concatenate((indirB_exemplars, indir_notBF_exemplars))\n",
    "    indir_F_exemplars = np.concatenate((indirF_exemplars, indir_notBF_exemplars))\n",
    "    indir_BF_exemplars = np.concatenate((indirBF_exemplars, indir_notBF_exemplars))\n",
    "\n",
    "    indir_cate_list.append(prob_retrieve_category(bank_teller_exemplars, indir_B_exemplars, linda, feat_weights))\n",
    "    indir_cate_list.append(prob_retrieve_category(feminist_exemplars, indir_F_exemplars, linda, feat_weights))\n",
    "    indir_cate_list.append(prob_retrieve_category(feminist_banker_exemplars, indir_BF_exemplars, linda, feat_weights))\n",
    "\n",
    "    indirTest_matrix_b.append(indir_cate_list)\n",
    "    \n",
    "indirTest_matrix_b = np.array(indirTest_matrix_b)\n",
    "\n",
    "# get mean and standard deviation for probability ratings\n",
    "indirStd_b = []\n",
    "indirMean_b = []\n",
    "for i in range(3):\n",
    "    a = indirTest_matrix_b[:,i]\n",
    "    std = np.std(a)\n",
    "    mean = np.mean(a)\n",
    "    indirStd_b.append(std)\n",
    "    indirMean_b.append(mean)\n",
    "print (indirStd_b, indirMean_b)"
   ]
  },
  {
   "cell_type": "code",
   "execution_count": 143,
   "metadata": {
    "collapsed": false
   },
   "outputs": [
    {
     "data": {
      "image/png": "[encoded data removed]",
      "text/plain": [
       "<matplotlib.figure.Figure at 0x106fdaeb8>"
      ]
     },
     "metadata": {},
     "output_type": "display_data"
    }
   ],
   "source": [
    "# Bar graph to display the rankings (mean and std) over 100 simulated participants\n",
    "# with both small exemplar size (B:10, F:10, BF: 3) and big exemplar size (B:100 F:100 BF:30)\n",
    "# - 26 May, by Huiji\n",
    "\n",
    "fig, ax = plt.subplots()\n",
    "\n",
    "def autolabel(rects):\n",
    "    # attach some text labels\n",
    "    for rect in rects:\n",
    "        height = rect.get_height()\n",
    "        ax.text(rect.get_x() + rect.get_width()/2., 1.05*height,\n",
    "                '%f' % height,\n",
    "                ha='center', va='bottom')\n",
    "        \n",
    "p1 = ax.bar(np.arange(0,3,1), indirMean, 0.45, color = 'y', yerr = indirStd)\n",
    "p2 = ax.bar(np.arange(0,3,1)+0.45, indirMean_b, 0.45, color = 'r', yerr = indirStd_b)\n",
    "plt.title(\"Average Probability judgements for indirect test over 100 iterations\")\n",
    "plt.xlabel(\"Categories\")\n",
    "plt.ylabel(\"Probability\")\n",
    "plt.xticks(np.arange(0,3,1)+0.95/2, [\"Bank Teller\", \"Feminist\",\"Feminist Bank Teller\"])\n",
    "plt.legend((p1[0],p2[0]), [\"Small Mem\", \"Big Mem\"])\n",
    "\n",
    "autolabel(p1)\n",
    "autolabel(p2)\n",
    "\n",
    "plt.show()"
   ]
  }
 ],
 "metadata": {
  "kernelspec": {
   "display_name": "Python 3",
   "language": "python",
   "name": "python3"
  },
  "language_info": {
   "codemirror_mode": {
    "name": "ipython",
    "version": 3
   },
   "file_extension": ".py",
   "mimetype": "text/x-python",
   "name": "python",
   "nbconvert_exporter": "python",
   "pygments_lexer": "ipython3",
   "version": "3.4.1"
  }
 },
 "nbformat": 4,
 "nbformat_minor": 0
}
